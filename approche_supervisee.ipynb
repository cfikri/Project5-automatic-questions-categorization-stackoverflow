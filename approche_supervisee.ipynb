{
 "cells": [
  {
   "cell_type": "markdown",
   "id": "f44fa757-c5b4-4c0f-9171-bcc28a6342c0",
   "metadata": {},
   "source": [
    "# 3. Approche supervisée."
   ]
  },
  {
   "cell_type": "code",
   "execution_count": 1,
   "id": "437bbb4d-db50-491a-a3e5-8300d5696624",
   "metadata": {},
   "outputs": [],
   "source": [
    "import numpy as np\n",
    "import pandas as pd\n",
    "import matplotlib.pyplot as plt\n",
    "import seaborn as sns\n",
    "import mytools as mt\n",
    "#import mlflow"
   ]
  },
  {
   "cell_type": "markdown",
   "id": "8e5472cf-34ca-423e-b221-fb8bec8450d6",
   "metadata": {},
   "source": [
    "## 3.1 Préparation de l'environnement MLflow et chargement des données."
   ]
  },
  {
   "cell_type": "code",
   "execution_count": 4,
   "id": "23dded04-04a7-44a9-a434-301b3fd257cb",
   "metadata": {},
   "outputs": [
    {
     "ename": "NameError",
     "evalue": "name 'mlflow' is not defined",
     "output_type": "error",
     "traceback": [
      "\u001b[0;31m---------------------------------------------------------------------------\u001b[0m",
      "\u001b[0;31mNameError\u001b[0m                                 Traceback (most recent call last)",
      "Cell \u001b[0;32mIn[4], line 1\u001b[0m\n\u001b[0;32m----> 1\u001b[0m mlflow\u001b[38;5;241m.\u001b[39mset_tracking_uri(\u001b[38;5;124m\"\u001b[39m\u001b[38;5;124mfile:///home/chakir/Bureau/PROJETS/Projet5/mlruns\u001b[39m\u001b[38;5;124m\"\u001b[39m)\n",
      "\u001b[0;31mNameError\u001b[0m: name 'mlflow' is not defined"
     ]
    }
   ],
   "source": [
    "mlflow.set_tracking_uri(\"file:///home/chakir/Bureau/PROJETS/Projet5/mlruns\")"
   ]
  },
  {
   "cell_type": "markdown",
   "id": "805718a9-4beb-4307-a767-eda6b8e093c8",
   "metadata": {},
   "source": [
    "Nous allons créer une expérience **approches_supervisées** dans laquelle nous enregistrerons nos runs :"
   ]
  },
  {
   "cell_type": "code",
   "execution_count": null,
   "id": "2b0a6741-862e-462f-af1f-9e0a9849ba8e",
   "metadata": {},
   "outputs": [],
   "source": [
    "mlflow.set_experiment('approches_supervisees')"
   ]
  },
  {
   "cell_type": "code",
   "execution_count": 2,
   "id": "6aa2edef-88c7-4ad5-a601-629ee6289806",
   "metadata": {},
   "outputs": [
    {
     "data": {
      "text/html": [
       "<div>\n",
       "<style scoped>\n",
       "    .dataframe tbody tr th:only-of-type {\n",
       "        vertical-align: middle;\n",
       "    }\n",
       "\n",
       "    .dataframe tbody tr th {\n",
       "        vertical-align: top;\n",
       "    }\n",
       "\n",
       "    .dataframe thead th {\n",
       "        text-align: right;\n",
       "    }\n",
       "</style>\n",
       "<table border=\"1\" class=\"dataframe\">\n",
       "  <thead>\n",
       "    <tr style=\"text-align: right;\">\n",
       "      <th></th>\n",
       "      <th>Title</th>\n",
       "      <th>Body</th>\n",
       "      <th>Tags</th>\n",
       "      <th>Score</th>\n",
       "      <th>ViewCount</th>\n",
       "      <th>AnswerCount</th>\n",
       "    </tr>\n",
       "    <tr>\n",
       "      <th>Id</th>\n",
       "      <th></th>\n",
       "      <th></th>\n",
       "      <th></th>\n",
       "      <th></th>\n",
       "      <th></th>\n",
       "      <th></th>\n",
       "    </tr>\n",
       "  </thead>\n",
       "  <tbody>\n",
       "    <tr>\n",
       "      <th>48363647</th>\n",
       "      <td>vs eslint pretty use</td>\n",
       "      <td>prettier throw     eslint pretty job format hr...</td>\n",
       "      <td>editorconfig eslint pretty code format</td>\n",
       "      <td>110</td>\n",
       "      <td>34657</td>\n",
       "      <td>5</td>\n",
       "    </tr>\n",
       "    <tr>\n",
       "      <th>15675173</th>\n",
       "      <td>add time</td>\n",
       "      <td>net test look package android     nofollow cla...</td>\n",
       "      <td>java android noclassdeffounderror jodatime   lib</td>\n",
       "      <td>19</td>\n",
       "      <td>45741</td>\n",
       "      <td>1</td>\n",
       "    </tr>\n",
       "    <tr>\n",
       "      <th>11088303</th>\n",
       "      <td>format d json convert   s</td>\n",
       "      <td>find github server function     adjacency js f...</td>\n",
       "      <td>graph tree js d json javascript</td>\n",
       "      <td>35</td>\n",
       "      <td>27139</td>\n",
       "      <td>2</td>\n",
       "    </tr>\n",
       "    <tr>\n",
       "      <th>40534837</th>\n",
       "      <td>env run kube open kubernete subnet installatio...</td>\n",
       "      <td>fail controller like message compiler ua http ...</td>\n",
       "      <td>docker kube kubernete flannel dns weave</td>\n",
       "      <td>12</td>\n",
       "      <td>26434</td>\n",
       "      <td>2</td>\n",
       "    </tr>\n",
       "    <tr>\n",
       "      <th>7281765</th>\n",
       "      <td>youtube video embed iframe</td>\n",
       "      <td>iframe new p way try play youtube video em...</td>\n",
       "      <td>api iframe youtube html javascript</td>\n",
       "      <td>265</td>\n",
       "      <td>1014467</td>\n",
       "      <td>16</td>\n",
       "    </tr>\n",
       "  </tbody>\n",
       "</table>\n",
       "</div>"
      ],
      "text/plain": [
       "                                                      Title  \\\n",
       "Id                                                            \n",
       "48363647                             vs eslint pretty use     \n",
       "15675173                                           add time   \n",
       "11088303                          format d json convert   s   \n",
       "40534837  env run kube open kubernete subnet installatio...   \n",
       "7281765                          youtube video embed iframe   \n",
       "\n",
       "                                                       Body  \\\n",
       "Id                                                            \n",
       "48363647  prettier throw     eslint pretty job format hr...   \n",
       "15675173  net test look package android     nofollow cla...   \n",
       "11088303  find github server function     adjacency js f...   \n",
       "40534837  fail controller like message compiler ua http ...   \n",
       "7281765       iframe new p way try play youtube video em...   \n",
       "\n",
       "                                                      Tags  Score  ViewCount  \\\n",
       "Id                                                                             \n",
       "48363647          editorconfig eslint pretty code format      110      34657   \n",
       "15675173  java android noclassdeffounderror jodatime   lib     19      45741   \n",
       "11088303                 graph tree js d json javascript       35      27139   \n",
       "40534837         docker kube kubernete flannel dns weave       12      26434   \n",
       "7281765               api iframe youtube html javascript      265    1014467   \n",
       "\n",
       "          AnswerCount  \n",
       "Id                     \n",
       "48363647            5  \n",
       "15675173            1  \n",
       "11088303            2  \n",
       "40534837            2  \n",
       "7281765            16  "
      ]
     },
     "execution_count": 2,
     "metadata": {},
     "output_type": "execute_result"
    }
   ],
   "source": [
    "data = pd.read_csv('questions_pretraitees.csv')\n",
    "data.set_index('Id', inplace=True)\n",
    "data.head()"
   ]
  },
  {
   "cell_type": "code",
   "execution_count": 3,
   "id": "7b1cbfbd-5119-4b3e-93ec-d912c69285a3",
   "metadata": {},
   "outputs": [
    {
     "data": {
      "text/plain": [
       "(20, 6)"
      ]
     },
     "execution_count": 3,
     "metadata": {},
     "output_type": "execute_result"
    }
   ],
   "source": [
    "data[data.Title.isna()].shape"
   ]
  },
  {
   "cell_type": "code",
   "execution_count": 4,
   "id": "ef3d624a-8453-40a6-ab66-0fff3e0fca0b",
   "metadata": {},
   "outputs": [],
   "source": [
    "condition = data.Title.isna()\n",
    "data.loc[condition, 'Title'] = data.loc[condition, 'Body']"
   ]
  },
  {
   "cell_type": "code",
   "execution_count": 5,
   "id": "74dda747-306f-46f9-9c60-de93870561c5",
   "metadata": {},
   "outputs": [
    {
     "data": {
      "text/html": [
       "<div>\n",
       "<style scoped>\n",
       "    .dataframe tbody tr th:only-of-type {\n",
       "        vertical-align: middle;\n",
       "    }\n",
       "\n",
       "    .dataframe tbody tr th {\n",
       "        vertical-align: top;\n",
       "    }\n",
       "\n",
       "    .dataframe thead th {\n",
       "        text-align: right;\n",
       "    }\n",
       "</style>\n",
       "<table border=\"1\" class=\"dataframe\">\n",
       "  <thead>\n",
       "    <tr style=\"text-align: right;\">\n",
       "      <th></th>\n",
       "      <th>effectif</th>\n",
       "      <th>taux</th>\n",
       "    </tr>\n",
       "  </thead>\n",
       "  <tbody>\n",
       "  </tbody>\n",
       "</table>\n",
       "</div>"
      ],
      "text/plain": [
       "Empty DataFrame\n",
       "Columns: [effectif, taux]\n",
       "Index: []"
      ]
     },
     "execution_count": 5,
     "metadata": {},
     "output_type": "execute_result"
    }
   ],
   "source": [
    "mt.valeurs_manquantes(data)"
   ]
  },
  {
   "cell_type": "markdown",
   "id": "0fc68762-674b-419b-a465-ae7b2f34a033",
   "metadata": {},
   "source": [
    "### TAUX DE COUVERTURE DES TAGS"
   ]
  },
  {
   "cell_type": "code",
   "execution_count": 7,
   "id": "fcee4ff7-4b8d-4efb-b4e2-489bb78597c9",
   "metadata": {},
   "outputs": [],
   "source": [
    "def tag_coverage(tags_pred, tags_cible):\n",
    "    coverages = []\n",
    "    for pred, cible in zip(tags_pred.str.split(), tags_cible.str.split()):\n",
    "        common_tags = set(pred).intersection(cible)\n",
    "        coverages.append(len(common_tags) / len(cible) if len(cible) > 0 else 0)\n",
    "    return sum(coverages) / len(coverages)"
   ]
  },
  {
   "cell_type": "code",
   "execution_count": 8,
   "id": "6b672498-58b9-4891-8426-7c3f4fb942f4",
   "metadata": {},
   "outputs": [
    {
     "data": {
      "text/plain": [
       "0.653717333000319"
      ]
     },
     "execution_count": 8,
     "metadata": {},
     "output_type": "execute_result"
    }
   ],
   "source": [
    "tag_coverage(data.Title + ' ' + data.Body, data.Tags)"
   ]
  },
  {
   "cell_type": "code",
   "execution_count": 9,
   "id": "7929c683-d5f0-4ed4-8230-e8d888d6204e",
   "metadata": {},
   "outputs": [
    {
     "data": {
      "text/plain": [
       "(25000, 6)"
      ]
     },
     "execution_count": 9,
     "metadata": {},
     "output_type": "execute_result"
    }
   ],
   "source": [
    "data_val = pd.read_csv('questions_pretraitees_validation.csv')\n",
    "data_val.set_index('Id', inplace=True)\n",
    "data_val.shape"
   ]
  },
  {
   "cell_type": "code",
   "execution_count": 10,
   "id": "624dd442-dca0-42ca-b849-f64432019ab7",
   "metadata": {},
   "outputs": [
    {
     "data": {
      "text/plain": [
       "(26, 6)"
      ]
     },
     "execution_count": 10,
     "metadata": {},
     "output_type": "execute_result"
    }
   ],
   "source": [
    "data_val[data_val.Title.isna()].shape"
   ]
  },
  {
   "cell_type": "code",
   "execution_count": 11,
   "id": "935cc48a-3790-430f-84d5-740714249640",
   "metadata": {},
   "outputs": [],
   "source": [
    "condition = data_val.Title.isna()\n",
    "data_val.loc[condition, 'Title'] = data_val.loc[condition, 'Body']"
   ]
  },
  {
   "cell_type": "code",
   "execution_count": 12,
   "id": "b7469928-8977-4b29-aba4-e5f2a304ed4a",
   "metadata": {},
   "outputs": [
    {
     "data": {
      "text/html": [
       "<div>\n",
       "<style scoped>\n",
       "    .dataframe tbody tr th:only-of-type {\n",
       "        vertical-align: middle;\n",
       "    }\n",
       "\n",
       "    .dataframe tbody tr th {\n",
       "        vertical-align: top;\n",
       "    }\n",
       "\n",
       "    .dataframe thead th {\n",
       "        text-align: right;\n",
       "    }\n",
       "</style>\n",
       "<table border=\"1\" class=\"dataframe\">\n",
       "  <thead>\n",
       "    <tr style=\"text-align: right;\">\n",
       "      <th></th>\n",
       "      <th>effectif</th>\n",
       "      <th>taux</th>\n",
       "    </tr>\n",
       "  </thead>\n",
       "  <tbody>\n",
       "  </tbody>\n",
       "</table>\n",
       "</div>"
      ],
      "text/plain": [
       "Empty DataFrame\n",
       "Columns: [effectif, taux]\n",
       "Index: []"
      ]
     },
     "execution_count": 12,
     "metadata": {},
     "output_type": "execute_result"
    }
   ],
   "source": [
    "mt.valeurs_manquantes(data_val)"
   ]
  },
  {
   "cell_type": "code",
   "execution_count": 24,
   "id": "15414d58-d145-4887-b2f7-81ccb9c2edfb",
   "metadata": {},
   "outputs": [
    {
     "data": {
      "text/plain": [
       "0.6513662034631913"
      ]
     },
     "execution_count": 24,
     "metadata": {},
     "output_type": "execute_result"
    }
   ],
   "source": [
    "tag_coverage(data_val.Title + ' ' + data_val.Body, data_val.Tags)"
   ]
  },
  {
   "cell_type": "markdown",
   "id": "b97c2578-68e2-485a-9980-f914806db4e3",
   "metadata": {},
   "source": [
    "### BAG OF WORDS TF-IDF"
   ]
  },
  {
   "cell_type": "code",
   "execution_count": 27,
   "id": "866d0908-3e7e-4eaf-a2ba-d2cb254aca40",
   "metadata": {},
   "outputs": [
    {
     "data": {
      "text/plain": [
       "7663"
      ]
     },
     "execution_count": 27,
     "metadata": {},
     "output_type": "execute_result"
    }
   ],
   "source": [
    "Tags = pd.read_csv('liste_tags.csv')['0'].tolist()\n",
    "len(Tags)"
   ]
  },
  {
   "cell_type": "code",
   "execution_count": 29,
   "id": "85f8c73f-9595-4ca3-9bd4-77d85e2b6e0d",
   "metadata": {},
   "outputs": [
    {
     "data": {
      "text/plain": [
       "7661"
      ]
     },
     "execution_count": 29,
     "metadata": {},
     "output_type": "execute_result"
    }
   ],
   "source": [
    "Tags = [x for x in Tags if x == x]\n",
    "len(Tags)"
   ]
  },
  {
   "cell_type": "code",
   "execution_count": 31,
   "id": "867268c0-2a03-4272-adab-4e76112b54e9",
   "metadata": {},
   "outputs": [],
   "source": [
    "from sklearn.feature_extraction.text import TfidfVectorizer"
   ]
  },
  {
   "cell_type": "code",
   "execution_count": 33,
   "id": "8b6ea1a4-e5c0-4a98-a61e-8e08049e614d",
   "metadata": {},
   "outputs": [],
   "source": [
    "# Créer une matrice TF-IDF pour les données textuelles :\n",
    "vectorizer = TfidfVectorizer(vocabulary=Tags, stop_words='english')\n",
    "vectorizer.fit(data.Title + ' ' + data.Body + ' ' + data.Tags)\n",
    "\n",
    "bow_tags = pd.DataFrame(vectorizer.transform(data.Tags).toarray(), index=data.index, columns=Tags)\n",
    "bow = pd.DataFrame(vectorizer.transform(data.Title + ' ' + data.Body).toarray(), index=data.index, columns=Tags)"
   ]
  },
  {
   "cell_type": "code",
   "execution_count": 35,
   "id": "4a2297fd-92e2-4f9d-a46d-f0945b3bf573",
   "metadata": {},
   "outputs": [
    {
     "data": {
      "text/html": [
       "<div>\n",
       "<style scoped>\n",
       "    .dataframe tbody tr th:only-of-type {\n",
       "        vertical-align: middle;\n",
       "    }\n",
       "\n",
       "    .dataframe tbody tr th {\n",
       "        vertical-align: top;\n",
       "    }\n",
       "\n",
       "    .dataframe thead th {\n",
       "        text-align: right;\n",
       "    }\n",
       "</style>\n",
       "<table border=\"1\" class=\"dataframe\">\n",
       "  <thead>\n",
       "    <tr style=\"text-align: right;\">\n",
       "      <th></th>\n",
       "      <th></th>\n",
       "      <th></th>\n",
       "      <th></th>\n",
       "      <th></th>\n",
       "      <th></th>\n",
       "      <th></th>\n",
       "      <th></th>\n",
       "      <th></th>\n",
       "      <th></th>\n",
       "      <th></th>\n",
       "      <th>...</th>\n",
       "      <th>zooming</th>\n",
       "      <th>zope</th>\n",
       "      <th>zpl</th>\n",
       "      <th>zsh</th>\n",
       "      <th>zshrc</th>\n",
       "      <th>zsi</th>\n",
       "      <th>zurb</th>\n",
       "      <th>zuul</th>\n",
       "      <th>zxe</th>\n",
       "      <th>zynq</th>\n",
       "    </tr>\n",
       "    <tr>\n",
       "      <th>Id</th>\n",
       "      <th></th>\n",
       "      <th></th>\n",
       "      <th></th>\n",
       "      <th></th>\n",
       "      <th></th>\n",
       "      <th></th>\n",
       "      <th></th>\n",
       "      <th></th>\n",
       "      <th></th>\n",
       "      <th></th>\n",
       "      <th></th>\n",
       "      <th></th>\n",
       "      <th></th>\n",
       "      <th></th>\n",
       "      <th></th>\n",
       "      <th></th>\n",
       "      <th></th>\n",
       "      <th></th>\n",
       "      <th></th>\n",
       "      <th></th>\n",
       "      <th></th>\n",
       "    </tr>\n",
       "  </thead>\n",
       "  <tbody>\n",
       "    <tr>\n",
       "      <th>48363647</th>\n",
       "      <td>0.0</td>\n",
       "      <td>0.0</td>\n",
       "      <td>0.0</td>\n",
       "      <td>0.0</td>\n",
       "      <td>0.0</td>\n",
       "      <td>0.0</td>\n",
       "      <td>0.0</td>\n",
       "      <td>0.0</td>\n",
       "      <td>0.0</td>\n",
       "      <td>0.0</td>\n",
       "      <td>...</td>\n",
       "      <td>0.0</td>\n",
       "      <td>0.0</td>\n",
       "      <td>0.0</td>\n",
       "      <td>0.0</td>\n",
       "      <td>0.0</td>\n",
       "      <td>0.0</td>\n",
       "      <td>0.0</td>\n",
       "      <td>0.0</td>\n",
       "      <td>0.0</td>\n",
       "      <td>0.0</td>\n",
       "    </tr>\n",
       "    <tr>\n",
       "      <th>15675173</th>\n",
       "      <td>0.0</td>\n",
       "      <td>0.0</td>\n",
       "      <td>0.0</td>\n",
       "      <td>0.0</td>\n",
       "      <td>0.0</td>\n",
       "      <td>0.0</td>\n",
       "      <td>0.0</td>\n",
       "      <td>0.0</td>\n",
       "      <td>0.0</td>\n",
       "      <td>0.0</td>\n",
       "      <td>...</td>\n",
       "      <td>0.0</td>\n",
       "      <td>0.0</td>\n",
       "      <td>0.0</td>\n",
       "      <td>0.0</td>\n",
       "      <td>0.0</td>\n",
       "      <td>0.0</td>\n",
       "      <td>0.0</td>\n",
       "      <td>0.0</td>\n",
       "      <td>0.0</td>\n",
       "      <td>0.0</td>\n",
       "    </tr>\n",
       "    <tr>\n",
       "      <th>11088303</th>\n",
       "      <td>0.0</td>\n",
       "      <td>0.0</td>\n",
       "      <td>0.0</td>\n",
       "      <td>0.0</td>\n",
       "      <td>0.0</td>\n",
       "      <td>0.0</td>\n",
       "      <td>0.0</td>\n",
       "      <td>0.0</td>\n",
       "      <td>0.0</td>\n",
       "      <td>0.0</td>\n",
       "      <td>...</td>\n",
       "      <td>0.0</td>\n",
       "      <td>0.0</td>\n",
       "      <td>0.0</td>\n",
       "      <td>0.0</td>\n",
       "      <td>0.0</td>\n",
       "      <td>0.0</td>\n",
       "      <td>0.0</td>\n",
       "      <td>0.0</td>\n",
       "      <td>0.0</td>\n",
       "      <td>0.0</td>\n",
       "    </tr>\n",
       "    <tr>\n",
       "      <th>40534837</th>\n",
       "      <td>0.0</td>\n",
       "      <td>0.0</td>\n",
       "      <td>0.0</td>\n",
       "      <td>0.0</td>\n",
       "      <td>0.0</td>\n",
       "      <td>0.0</td>\n",
       "      <td>0.0</td>\n",
       "      <td>0.0</td>\n",
       "      <td>0.0</td>\n",
       "      <td>0.0</td>\n",
       "      <td>...</td>\n",
       "      <td>0.0</td>\n",
       "      <td>0.0</td>\n",
       "      <td>0.0</td>\n",
       "      <td>0.0</td>\n",
       "      <td>0.0</td>\n",
       "      <td>0.0</td>\n",
       "      <td>0.0</td>\n",
       "      <td>0.0</td>\n",
       "      <td>0.0</td>\n",
       "      <td>0.0</td>\n",
       "    </tr>\n",
       "    <tr>\n",
       "      <th>7281765</th>\n",
       "      <td>0.0</td>\n",
       "      <td>0.0</td>\n",
       "      <td>0.0</td>\n",
       "      <td>0.0</td>\n",
       "      <td>0.0</td>\n",
       "      <td>0.0</td>\n",
       "      <td>0.0</td>\n",
       "      <td>0.0</td>\n",
       "      <td>0.0</td>\n",
       "      <td>0.0</td>\n",
       "      <td>...</td>\n",
       "      <td>0.0</td>\n",
       "      <td>0.0</td>\n",
       "      <td>0.0</td>\n",
       "      <td>0.0</td>\n",
       "      <td>0.0</td>\n",
       "      <td>0.0</td>\n",
       "      <td>0.0</td>\n",
       "      <td>0.0</td>\n",
       "      <td>0.0</td>\n",
       "      <td>0.0</td>\n",
       "    </tr>\n",
       "  </tbody>\n",
       "</table>\n",
       "<p>5 rows × 7661 columns</p>\n",
       "</div>"
      ],
      "text/plain": [
       "                                                                            \\\n",
       "Id                                                                           \n",
       "48363647  0.0  0.0  0.0   0.0    0.0     0.0      0.0       0.0        0.0   \n",
       "15675173  0.0  0.0  0.0   0.0    0.0     0.0      0.0       0.0        0.0   \n",
       "11088303  0.0  0.0  0.0   0.0    0.0     0.0      0.0       0.0        0.0   \n",
       "40534837  0.0  0.0  0.0   0.0    0.0     0.0      0.0       0.0        0.0   \n",
       "7281765   0.0  0.0  0.0   0.0    0.0     0.0      0.0       0.0        0.0   \n",
       "\n",
       "                       ...  zooming  zope  zpl  zsh  zshrc  zsi  zurb  zuul  \\\n",
       "Id                     ...                                                    \n",
       "48363647          0.0  ...      0.0   0.0  0.0  0.0    0.0  0.0   0.0   0.0   \n",
       "15675173          0.0  ...      0.0   0.0  0.0  0.0    0.0  0.0   0.0   0.0   \n",
       "11088303          0.0  ...      0.0   0.0  0.0  0.0    0.0  0.0   0.0   0.0   \n",
       "40534837          0.0  ...      0.0   0.0  0.0  0.0    0.0  0.0   0.0   0.0   \n",
       "7281765           0.0  ...      0.0   0.0  0.0  0.0    0.0  0.0   0.0   0.0   \n",
       "\n",
       "          zxe  zynq  \n",
       "Id                   \n",
       "48363647  0.0   0.0  \n",
       "15675173  0.0   0.0  \n",
       "11088303  0.0   0.0  \n",
       "40534837  0.0   0.0  \n",
       "7281765   0.0   0.0  \n",
       "\n",
       "[5 rows x 7661 columns]"
      ]
     },
     "execution_count": 35,
     "metadata": {},
     "output_type": "execute_result"
    }
   ],
   "source": [
    "bow.head()"
   ]
  },
  {
   "cell_type": "code",
   "execution_count": 36,
   "id": "89843e99-0bb6-42a4-bebe-807f437f6384",
   "metadata": {},
   "outputs": [
    {
     "data": {
      "text/html": [
       "<div>\n",
       "<style scoped>\n",
       "    .dataframe tbody tr th:only-of-type {\n",
       "        vertical-align: middle;\n",
       "    }\n",
       "\n",
       "    .dataframe tbody tr th {\n",
       "        vertical-align: top;\n",
       "    }\n",
       "\n",
       "    .dataframe thead th {\n",
       "        text-align: right;\n",
       "    }\n",
       "</style>\n",
       "<table border=\"1\" class=\"dataframe\">\n",
       "  <thead>\n",
       "    <tr style=\"text-align: right;\">\n",
       "      <th></th>\n",
       "      <th>effectif</th>\n",
       "      <th>taux</th>\n",
       "    </tr>\n",
       "  </thead>\n",
       "  <tbody>\n",
       "  </tbody>\n",
       "</table>\n",
       "</div>"
      ],
      "text/plain": [
       "Empty DataFrame\n",
       "Columns: [effectif, taux]\n",
       "Index: []"
      ]
     },
     "execution_count": 36,
     "metadata": {},
     "output_type": "execute_result"
    }
   ],
   "source": [
    "mt.valeurs_manquantes(bow)"
   ]
  },
  {
   "cell_type": "code",
   "execution_count": 38,
   "id": "55ddf637-6639-4513-9b00-4ad77c0baf72",
   "metadata": {},
   "outputs": [
    {
     "data": {
      "text/plain": [
       "0"
      ]
     },
     "execution_count": 38,
     "metadata": {},
     "output_type": "execute_result"
    }
   ],
   "source": [
    "bow[(bow == 0).all(axis=1)].shape[0]"
   ]
  },
  {
   "cell_type": "code",
   "execution_count": 39,
   "id": "5608e6c6-f509-4915-a0a0-600b5e08b284",
   "metadata": {},
   "outputs": [
    {
     "data": {
      "text/plain": [
       "1"
      ]
     },
     "execution_count": 39,
     "metadata": {},
     "output_type": "execute_result"
    }
   ],
   "source": [
    "bow_tags[(bow_tags == 0).all(axis=1)].shape[0]"
   ]
  },
  {
   "cell_type": "code",
   "execution_count": 40,
   "id": "ee6fce9e-67a7-4c90-b342-a8b41119c550",
   "metadata": {},
   "outputs": [],
   "source": [
    "# Calculer la distance cosinus entre deux vecteurs :\n",
    "def cosine_distance(x, y):\n",
    "    return np.dot(x, y) / (np.linalg.norm(x) * np.linalg.norm(y))\n",
    "\n",
    "def relative_distance(x, y):\n",
    "    return np.linalg.norm(x - y)/np.linalg.norm(y)\n",
    "\n",
    "# Calculer la distance moyenne entre les lignes de deux DataFrames :\n",
    "def average_distance(df1, df2, metric=cosine_distance):\n",
    "    distances = []\n",
    "    for index in df1.index:\n",
    "            distances.append(metric(df1.loc[index,:], df2.loc[index,:]))\n",
    "    return np.mean(distances)"
   ]
  },
  {
   "cell_type": "code",
   "execution_count": 45,
   "id": "98f7748b-91ff-46de-94a4-69888e3bbf50",
   "metadata": {},
   "outputs": [
    {
     "data": {
      "text/plain": [
       "0.40349571729897166"
      ]
     },
     "execution_count": 45,
     "metadata": {},
     "output_type": "execute_result"
    }
   ],
   "source": [
    "condition = (bow_tags == 0).all(axis=1)\n",
    "average_distance(bow[~condition], bow_tags[~condition])"
   ]
  },
  {
   "cell_type": "code",
   "execution_count": 47,
   "id": "58bef6f3-f8ab-425c-b36f-da3e9b07d765",
   "metadata": {},
   "outputs": [
    {
     "data": {
      "text/plain": [
       "1.0787161083362002"
      ]
     },
     "execution_count": 47,
     "metadata": {},
     "output_type": "execute_result"
    }
   ],
   "source": [
    "average_distance(bow[~condition], bow_tags[~condition], metric=relative_distance)"
   ]
  },
  {
   "cell_type": "code",
   "execution_count": 49,
   "id": "d1163396-1f4c-4828-ac0a-d954cd2d4faa",
   "metadata": {},
   "outputs": [],
   "source": [
    "bow_tags_val = pd.DataFrame(vectorizer.transform(data_val.Tags).toarray(), index=data_val.index, columns=Tags)\n",
    "bow_val = pd.DataFrame(vectorizer.transform(data_val.Title + ' ' + data_val.Body).toarray(), index=data_val.index, columns=Tags)"
   ]
  },
  {
   "cell_type": "code",
   "execution_count": 51,
   "id": "7160a54f-8372-44f5-8e26-463fe99aac76",
   "metadata": {},
   "outputs": [
    {
     "data": {
      "text/plain": [
       "0"
      ]
     },
     "execution_count": 51,
     "metadata": {},
     "output_type": "execute_result"
    }
   ],
   "source": [
    "bow_val[(bow_val == 0).all(axis=1)].shape[0]"
   ]
  },
  {
   "cell_type": "code",
   "execution_count": 53,
   "id": "48b2f695-c056-419e-b29e-5f2f3e4bc70b",
   "metadata": {},
   "outputs": [
    {
     "data": {
      "text/plain": [
       "0"
      ]
     },
     "execution_count": 53,
     "metadata": {},
     "output_type": "execute_result"
    }
   ],
   "source": [
    "bow_tags_val[(bow_tags_val == 0).all(axis=1)].shape[0]"
   ]
  },
  {
   "cell_type": "code",
   "execution_count": 55,
   "id": "bff16335-bec0-41e9-abd4-9f18b63b02ac",
   "metadata": {},
   "outputs": [
    {
     "data": {
      "text/plain": [
       "0.4045691932542547"
      ]
     },
     "execution_count": 55,
     "metadata": {},
     "output_type": "execute_result"
    }
   ],
   "source": [
    "average_distance(bow_val, bow_tags_val)"
   ]
  },
  {
   "cell_type": "code",
   "execution_count": 56,
   "id": "7d096e4c-9d33-43fa-b483-d8d837132cf6",
   "metadata": {},
   "outputs": [
    {
     "data": {
      "text/plain": [
       "1.0777653991687233"
      ]
     },
     "execution_count": 56,
     "metadata": {},
     "output_type": "execute_result"
    }
   ],
   "source": [
    "average_distance(bow_val, bow_tags_val, metric=relative_distance)"
   ]
  },
  {
   "cell_type": "markdown",
   "id": "b666e4f9-3e7e-458c-a817-9c18beb8f88d",
   "metadata": {},
   "source": [
    "### Word2Vec"
   ]
  },
  {
   "cell_type": "code",
   "execution_count": 59,
   "id": "80a6b038-977a-4617-8f6b-0efaf5f4ff7d",
   "metadata": {},
   "outputs": [],
   "source": [
    "from gensim.models import Word2Vec"
   ]
  },
  {
   "cell_type": "code",
   "execution_count": 61,
   "id": "f04e5c56-bc38-4ad9-91fd-f3c93ec4f200",
   "metadata": {},
   "outputs": [],
   "source": [
    "sentences = [title.split() for title in data.Title] + [question.split() for question in data.Body] + [tags.split() for tags in data.Tags]\n",
    "embedding = Word2Vec(sentences, vector_size=2, min_count=1, sg=1, window=7)"
   ]
  },
  {
   "cell_type": "code",
   "execution_count": 63,
   "id": "348cc400-3145-4e74-b659-1b1f02377dc6",
   "metadata": {},
   "outputs": [
    {
     "data": {
      "text/plain": [
       "[('foolproof', 1.0),\n",
       " ('decoder', 1.0),\n",
       " ('bufferedreader', 1.0),\n",
       " ('uvicorn', 1.0),\n",
       " ('scrollintoview', 0.9999999403953552),\n",
       " ('gettext', 0.9999997615814209),\n",
       " ('xuggle', 0.9999997615814209),\n",
       " ('homogenous', 0.9999997019767761),\n",
       " ('runtime', 0.9999997019767761),\n",
       " ('lateral', 0.9999996423721313)]"
      ]
     },
     "execution_count": 63,
     "metadata": {},
     "output_type": "execute_result"
    }
   ],
   "source": [
    "embedding.wv.most_similar('tensorflow')"
   ]
  },
  {
   "cell_type": "code",
   "execution_count": 65,
   "id": "f542ef2c-d1df-40ef-96eb-92d24309b9e6",
   "metadata": {},
   "outputs": [],
   "source": [
    "def get_vector(embedding, text):\n",
    "    return np.mean([embedding.wv[word] for word in text.split() if word in embedding.wv], axis=0)"
   ]
  },
  {
   "cell_type": "code",
   "execution_count": 67,
   "id": "592ab0c0-5a3c-40bd-9462-babe9a730780",
   "metadata": {},
   "outputs": [],
   "source": [
    "w2v_tags = pd.DataFrame(data.Tags.apply(lambda x : get_vector(embedding, x)).tolist(), index=data.index)\n",
    "w2v = pd.DataFrame((data.Title + ' ' + data.Body).apply(lambda x: get_vector(embedding, x)).tolist(), index=data.index)"
   ]
  },
  {
   "cell_type": "code",
   "execution_count": 69,
   "id": "80fd71ff-3557-4c68-aac7-eead6e6a5108",
   "metadata": {},
   "outputs": [
    {
     "data": {
      "text/plain": [
       "(25000, 2)"
      ]
     },
     "execution_count": 69,
     "metadata": {},
     "output_type": "execute_result"
    }
   ],
   "source": [
    "w2v.shape"
   ]
  },
  {
   "cell_type": "code",
   "execution_count": 71,
   "id": "1c84939e-3859-466f-b170-239db8669cc1",
   "metadata": {},
   "outputs": [
    {
     "data": {
      "text/plain": [
       "0.9771767"
      ]
     },
     "execution_count": 71,
     "metadata": {},
     "output_type": "execute_result"
    }
   ],
   "source": [
    "average_distance(w2v, w2v_tags)"
   ]
  },
  {
   "cell_type": "code",
   "execution_count": 73,
   "id": "94a304d9-91ab-4260-a3e9-ac72a41a3616",
   "metadata": {},
   "outputs": [
    {
     "data": {
      "text/plain": [
       "0.23566364"
      ]
     },
     "execution_count": 73,
     "metadata": {},
     "output_type": "execute_result"
    }
   ],
   "source": [
    "average_distance(w2v, w2v_tags, metric=relative_distance)"
   ]
  },
  {
   "cell_type": "code",
   "execution_count": 75,
   "id": "59106ea7-4e17-41d8-82a3-57a6a959e035",
   "metadata": {},
   "outputs": [],
   "source": [
    "w2v_tags_val = pd.DataFrame(data_val.Tags.apply(lambda x : get_vector(embedding, x)).tolist(), index=data_val.index)\n",
    "w2v_val = pd.DataFrame((data_val.Title + ' ' + data_val.Body).apply(lambda x: get_vector(embedding, x)).tolist(), index=data_val.index)"
   ]
  },
  {
   "cell_type": "code",
   "execution_count": 77,
   "id": "3f3e996b-2e27-424e-b101-1bd800200f57",
   "metadata": {},
   "outputs": [
    {
     "data": {
      "text/plain": [
       "0.97720367"
      ]
     },
     "execution_count": 77,
     "metadata": {},
     "output_type": "execute_result"
    }
   ],
   "source": [
    "average_distance(w2v_val, w2v_tags_val)"
   ]
  },
  {
   "cell_type": "code",
   "execution_count": 79,
   "id": "0b57aefe-9da9-474e-9320-1a90653c6738",
   "metadata": {},
   "outputs": [
    {
     "data": {
      "text/plain": [
       "0.23115596"
      ]
     },
     "execution_count": 79,
     "metadata": {},
     "output_type": "execute_result"
    }
   ],
   "source": [
    "average_distance(w2v_val, w2v_tags_val, metric=relative_distance)"
   ]
  },
  {
   "cell_type": "markdown",
   "id": "2f93a2d4-7f35-4c1f-b653-b58fed935fc6",
   "metadata": {},
   "source": [
    "### BERT"
   ]
  },
  {
   "cell_type": "code",
   "execution_count": 38,
   "id": "a5a1a637-bc62-4bb0-aaa5-aa813948b43e",
   "metadata": {},
   "outputs": [
    {
     "name": "stderr",
     "output_type": "stream",
     "text": [
      "/home/chakir/anaconda3/lib/python3.11/site-packages/transformers/utils/generic.py:260: UserWarning: torch.utils._pytree._register_pytree_node is deprecated. Please use torch.utils._pytree.register_pytree_node instead.\n",
      "  torch.utils._pytree._register_pytree_node(\n"
     ]
    }
   ],
   "source": [
    "import torch\n",
    "from transformers import BertTokenizer, BertModel # Charger le tokenizer et le modèle BERT"
   ]
  },
  {
   "cell_type": "code",
   "execution_count": 44,
   "id": "aac6ff9f-4aad-4d00-bdca-9a235c9959d3",
   "metadata": {},
   "outputs": [],
   "source": [
    "tokenizer = BertTokenizer.from_pretrained('bert-base-uncased')\n",
    "model = BertModel.from_pretrained('bert-base-uncased')\n",
    "\n",
    "# Tokenisation de la phrase\n",
    "inputs = tokenizer(data.Tags.tolist(), padding=True, truncation=True, return_tensors=\"pt\")"
   ]
  },
  {
   "cell_type": "code",
   "execution_count": null,
   "id": "18ba1257-8ee6-42a3-88dc-be2af8c913e1",
   "metadata": {},
   "outputs": [],
   "source": [
    "# Obtenir les embeddings de la couche cachée finale (last_hidden_state)\n",
    "with torch.no_grad():\n",
    "    outputs = model(**inputs)\n",
    "\n",
    "# Récupérer les embeddings de la couche cachée finale\n",
    "#embeddings = outputs.last_hidden_state"
   ]
  },
  {
   "cell_type": "markdown",
   "id": "3f23448a-5943-4ca9-bfe5-520a30570f08",
   "metadata": {},
   "source": [
    "### USE"
   ]
  },
  {
   "cell_type": "code",
   "execution_count": null,
   "id": "d62f51b0-042b-426b-9b02-8dbc9c26c9ba",
   "metadata": {},
   "outputs": [
    {
     "name": "stderr",
     "output_type": "stream",
     "text": [
      "2024-04-29 16:04:30.947670: I tensorflow/core/platform/cpu_feature_guard.cc:210] This TensorFlow binary is optimized to use available CPU instructions in performance-critical operations.\n",
      "To enable the following instructions: AVX2 FMA, in other operations, rebuild TensorFlow with the appropriate compiler flags.\n",
      "2024-04-29 16:04:32.020503: W tensorflow/compiler/tf2tensorrt/utils/py_utils.cc:38] TF-TRT Warning: Could not find TensorRT\n",
      "2024-04-29 16:06:31.397626: W external/local_tsl/tsl/framework/cpu_allocator_impl.cc:83] Allocation of 19118848 exceeds 10% of free system memory.\n",
      "2024-04-29 16:06:31.398533: W external/local_tsl/tsl/framework/cpu_allocator_impl.cc:83] Allocation of 28678272 exceeds 10% of free system memory.\n",
      "2024-04-29 16:06:31.433588: W external/local_tsl/tsl/framework/cpu_allocator_impl.cc:83] Allocation of 231600000 exceeds 10% of free system memory.\n",
      "2024-04-29 16:06:31.665591: W external/local_tsl/tsl/framework/cpu_allocator_impl.cc:83] Allocation of 19118848 exceeds 10% of free system memory.\n",
      "2024-04-29 16:06:31.680482: W external/local_tsl/tsl/framework/cpu_allocator_impl.cc:83] Allocation of 28678272 exceeds 10% of free system memory.\n"
     ]
    }
   ],
   "source": [
    "import tensorflow_hub as hub\n",
    "import tensorflow as tf\n",
    "\n",
    "embedding = hub.load(\"https://tfhub.dev/google/universal-sentence-encoder-large/5\")\n",
    "\n",
    "# Obtenir les embeddings des questions\n",
    "use = embedding((data.Title + ' ' + data.Body).tolist())\n",
    "use_tags = embedding((data.Tags).tolist())"
   ]
  }
 ],
 "metadata": {
  "kernelspec": {
   "display_name": "anaconda-panel-2023.05-py310",
   "language": "python",
   "name": "conda-env-anaconda-panel-2023.05-py310-py"
  },
  "language_info": {
   "codemirror_mode": {
    "name": "ipython",
    "version": 3
   },
   "file_extension": ".py",
   "mimetype": "text/x-python",
   "name": "python",
   "nbconvert_exporter": "python",
   "pygments_lexer": "ipython3",
   "version": "3.11.5"
  }
 },
 "nbformat": 4,
 "nbformat_minor": 5
}
