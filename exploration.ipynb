{
 "cells": [
  {
   "cell_type": "markdown",
   "id": "7a321588-8538-4dc5-9770-9f6e69a50d0e",
   "metadata": {},
   "source": [
    "# 1. Exploration."
   ]
  },
  {
   "cell_type": "code",
   "execution_count": 1,
   "id": "119f9de4-efee-4709-9a42-0cab395c5309",
   "metadata": {},
   "outputs": [],
   "source": [
    "import numpy as np\n",
    "import pandas as pd\n",
    "import mytools as mt\n",
    "import spacy\n",
    "import re"
   ]
  },
  {
   "cell_type": "markdown",
   "id": "de6b2412-f235-469d-96bb-df9e86199e75",
   "metadata": {},
   "source": [
    "### 1.1 EXTRACTION ET CHARGEMENT DES QUESTIONS DE STACKOVERFLOW\n",
    "\n",
    "Nous allons extraire 50000 questions qui ont les caractéristiques suivantes :\n",
    "\n",
    "- plus de 25000 vues ;\n",
    "- au moins une réponse ;\n",
    "- au moins 5 Tags ;\n",
    "- classées par score décroissant.\n",
    "\n",
    "Voici la requête SQL effectuée sur le site https://data.stackexchange.com/stackoverflow/query/edit/1838136 (Les données ont été enregistrées dans un fichier csv) :"
   ]
  },
  {
   "cell_type": "raw",
   "id": "600a8e32-be28-4530-b7ae-eea4c49a1753",
   "metadata": {},
   "source": [
    "SELECT Id,\n",
    "       Title,\n",
    "       Body,\n",
    "       Tags,  \n",
    "       Score, \n",
    "       ViewCount,\n",
    "       AnswerCount\n",
    "\n",
    "FROM Posts\n",
    "\n",
    "WHERE PostTypeId = 1 \n",
    "      AND ViewCount > 25000 \n",
    "      AND AnswerCount > 0\n",
    "      AND LEN(Tags) - LEN(REPLACE(Tags, '<','')) >= 5\n",
    "\n",
    "ORDER BY Score DESC"
   ]
  },
  {
   "cell_type": "markdown",
   "id": "2f6d5607-8af1-461c-8e99-b276bb8e652b",
   "metadata": {},
   "source": [
    "Chargeons les questions dans un DataFrame Pandas :"
   ]
  },
  {
   "cell_type": "code",
   "execution_count": 4,
   "id": "97439ab0-e261-4aea-862f-b53f64c18d15",
   "metadata": {},
   "outputs": [
    {
     "data": {
      "text/html": [
       "<div>\n",
       "<style scoped>\n",
       "    .dataframe tbody tr th:only-of-type {\n",
       "        vertical-align: middle;\n",
       "    }\n",
       "\n",
       "    .dataframe tbody tr th {\n",
       "        vertical-align: top;\n",
       "    }\n",
       "\n",
       "    .dataframe thead th {\n",
       "        text-align: right;\n",
       "    }\n",
       "</style>\n",
       "<table border=\"1\" class=\"dataframe\">\n",
       "  <thead>\n",
       "    <tr style=\"text-align: right;\">\n",
       "      <th></th>\n",
       "      <th>Id</th>\n",
       "      <th>Title</th>\n",
       "      <th>Body</th>\n",
       "      <th>Tags</th>\n",
       "      <th>Score</th>\n",
       "      <th>ViewCount</th>\n",
       "      <th>AnswerCount</th>\n",
       "    </tr>\n",
       "  </thead>\n",
       "  <tbody>\n",
       "    <tr>\n",
       "      <th>0</th>\n",
       "      <td>11227809</td>\n",
       "      <td>Why is processing a sorted array faster than p...</td>\n",
       "      <td>&lt;p&gt;In this C++ code, sorting the data (&lt;em&gt;bef...</td>\n",
       "      <td>&lt;java&gt;&lt;c++&gt;&lt;performance&gt;&lt;cpu-architecture&gt;&lt;bra...</td>\n",
       "      <td>27243</td>\n",
       "      <td>1880186</td>\n",
       "      <td>25</td>\n",
       "    </tr>\n",
       "    <tr>\n",
       "      <th>1</th>\n",
       "      <td>2003505</td>\n",
       "      <td>How do I delete a Git branch locally and remot...</td>\n",
       "      <td>&lt;p&gt;Failed Attempts to Delete a Remote Branch:&lt;...</td>\n",
       "      <td>&lt;git&gt;&lt;version-control&gt;&lt;git-branch&gt;&lt;git-push&gt;&lt;g...</td>\n",
       "      <td>20386</td>\n",
       "      <td>11483075</td>\n",
       "      <td>41</td>\n",
       "    </tr>\n",
       "    <tr>\n",
       "      <th>2</th>\n",
       "      <td>1642028</td>\n",
       "      <td>What is the '--&gt;' operator in C/C++?</td>\n",
       "      <td>&lt;p&gt;After reading &lt;a href=\"http://groups.google...</td>\n",
       "      <td>&lt;c++&gt;&lt;c&gt;&lt;operators&gt;&lt;code-formatting&gt;&lt;standards...</td>\n",
       "      <td>10156</td>\n",
       "      <td>1010497</td>\n",
       "      <td>26</td>\n",
       "    </tr>\n",
       "    <tr>\n",
       "      <th>3</th>\n",
       "      <td>1125968</td>\n",
       "      <td>How do I force \"git pull\" to overwrite local f...</td>\n",
       "      <td>&lt;p&gt;How do I force an overwrite of local files ...</td>\n",
       "      <td>&lt;git&gt;&lt;version-control&gt;&lt;overwrite&gt;&lt;git-pull&gt;&lt;gi...</td>\n",
       "      <td>9647</td>\n",
       "      <td>8511461</td>\n",
       "      <td>53</td>\n",
       "    </tr>\n",
       "    <tr>\n",
       "      <th>4</th>\n",
       "      <td>79923</td>\n",
       "      <td>What and where are the stack and heap?</td>\n",
       "      <td>&lt;ul&gt;\\n&lt;li&gt;What are the stack and heap?&lt;/li&gt;\\n&lt;...</td>\n",
       "      <td>&lt;data-structures&gt;&lt;memory-management&gt;&lt;heap-memo...</td>\n",
       "      <td>9420</td>\n",
       "      <td>1931849</td>\n",
       "      <td>31</td>\n",
       "    </tr>\n",
       "  </tbody>\n",
       "</table>\n",
       "</div>"
      ],
      "text/plain": [
       "         Id                                              Title  \\\n",
       "0  11227809  Why is processing a sorted array faster than p...   \n",
       "1   2003505  How do I delete a Git branch locally and remot...   \n",
       "2   1642028               What is the '-->' operator in C/C++?   \n",
       "3   1125968  How do I force \"git pull\" to overwrite local f...   \n",
       "4     79923             What and where are the stack and heap?   \n",
       "\n",
       "                                                Body  \\\n",
       "0  <p>In this C++ code, sorting the data (<em>bef...   \n",
       "1  <p>Failed Attempts to Delete a Remote Branch:<...   \n",
       "2  <p>After reading <a href=\"http://groups.google...   \n",
       "3  <p>How do I force an overwrite of local files ...   \n",
       "4  <ul>\\n<li>What are the stack and heap?</li>\\n<...   \n",
       "\n",
       "                                                Tags  Score  ViewCount  \\\n",
       "0  <java><c++><performance><cpu-architecture><bra...  27243    1880186   \n",
       "1  <git><version-control><git-branch><git-push><g...  20386   11483075   \n",
       "2  <c++><c><operators><code-formatting><standards...  10156    1010497   \n",
       "3  <git><version-control><overwrite><git-pull><gi...   9647    8511461   \n",
       "4  <data-structures><memory-management><heap-memo...   9420    1931849   \n",
       "\n",
       "   AnswerCount  \n",
       "0           25  \n",
       "1           41  \n",
       "2           26  \n",
       "3           53  \n",
       "4           31  "
      ]
     },
     "execution_count": 4,
     "metadata": {},
     "output_type": "execute_result"
    }
   ],
   "source": [
    "data = pd.read_csv('data_stackoverflow.csv')\n",
    "data.head()"
   ]
  },
  {
   "cell_type": "code",
   "execution_count": 5,
   "id": "3ba4cf51-0209-4fd4-8e0a-283341de9d2f",
   "metadata": {},
   "outputs": [
    {
     "data": {
      "text/plain": [
       "(50000, 7)"
      ]
     },
     "execution_count": 5,
     "metadata": {},
     "output_type": "execute_result"
    }
   ],
   "source": [
    "data.shape"
   ]
  },
  {
   "cell_type": "code",
   "execution_count": 6,
   "id": "c6ca39a4-f4d4-41d4-b0ce-79dd25c833b1",
   "metadata": {},
   "outputs": [
    {
     "data": {
      "text/html": [
       "<div>\n",
       "<style scoped>\n",
       "    .dataframe tbody tr th:only-of-type {\n",
       "        vertical-align: middle;\n",
       "    }\n",
       "\n",
       "    .dataframe tbody tr th {\n",
       "        vertical-align: top;\n",
       "    }\n",
       "\n",
       "    .dataframe thead th {\n",
       "        text-align: right;\n",
       "    }\n",
       "</style>\n",
       "<table border=\"1\" class=\"dataframe\">\n",
       "  <thead>\n",
       "    <tr style=\"text-align: right;\">\n",
       "      <th></th>\n",
       "      <th>Title</th>\n",
       "      <th>Body</th>\n",
       "      <th>Tags</th>\n",
       "      <th>Score</th>\n",
       "      <th>ViewCount</th>\n",
       "      <th>AnswerCount</th>\n",
       "    </tr>\n",
       "    <tr>\n",
       "      <th>Id</th>\n",
       "      <th></th>\n",
       "      <th></th>\n",
       "      <th></th>\n",
       "      <th></th>\n",
       "      <th></th>\n",
       "      <th></th>\n",
       "    </tr>\n",
       "  </thead>\n",
       "  <tbody>\n",
       "    <tr>\n",
       "      <th>11227809</th>\n",
       "      <td>Why is processing a sorted array faster than p...</td>\n",
       "      <td>&lt;p&gt;In this C++ code, sorting the data (&lt;em&gt;bef...</td>\n",
       "      <td>&lt;java&gt;&lt;c++&gt;&lt;performance&gt;&lt;cpu-architecture&gt;&lt;bra...</td>\n",
       "      <td>27243</td>\n",
       "      <td>1880186</td>\n",
       "      <td>25</td>\n",
       "    </tr>\n",
       "    <tr>\n",
       "      <th>2003505</th>\n",
       "      <td>How do I delete a Git branch locally and remot...</td>\n",
       "      <td>&lt;p&gt;Failed Attempts to Delete a Remote Branch:&lt;...</td>\n",
       "      <td>&lt;git&gt;&lt;version-control&gt;&lt;git-branch&gt;&lt;git-push&gt;&lt;g...</td>\n",
       "      <td>20386</td>\n",
       "      <td>11483075</td>\n",
       "      <td>41</td>\n",
       "    </tr>\n",
       "    <tr>\n",
       "      <th>1642028</th>\n",
       "      <td>What is the '--&gt;' operator in C/C++?</td>\n",
       "      <td>&lt;p&gt;After reading &lt;a href=\"http://groups.google...</td>\n",
       "      <td>&lt;c++&gt;&lt;c&gt;&lt;operators&gt;&lt;code-formatting&gt;&lt;standards...</td>\n",
       "      <td>10156</td>\n",
       "      <td>1010497</td>\n",
       "      <td>26</td>\n",
       "    </tr>\n",
       "    <tr>\n",
       "      <th>1125968</th>\n",
       "      <td>How do I force \"git pull\" to overwrite local f...</td>\n",
       "      <td>&lt;p&gt;How do I force an overwrite of local files ...</td>\n",
       "      <td>&lt;git&gt;&lt;version-control&gt;&lt;overwrite&gt;&lt;git-pull&gt;&lt;gi...</td>\n",
       "      <td>9647</td>\n",
       "      <td>8511461</td>\n",
       "      <td>53</td>\n",
       "    </tr>\n",
       "    <tr>\n",
       "      <th>79923</th>\n",
       "      <td>What and where are the stack and heap?</td>\n",
       "      <td>&lt;ul&gt;\\n&lt;li&gt;What are the stack and heap?&lt;/li&gt;\\n&lt;...</td>\n",
       "      <td>&lt;data-structures&gt;&lt;memory-management&gt;&lt;heap-memo...</td>\n",
       "      <td>9420</td>\n",
       "      <td>1931849</td>\n",
       "      <td>31</td>\n",
       "    </tr>\n",
       "  </tbody>\n",
       "</table>\n",
       "</div>"
      ],
      "text/plain": [
       "                                                      Title  \\\n",
       "Id                                                            \n",
       "11227809  Why is processing a sorted array faster than p...   \n",
       "2003505   How do I delete a Git branch locally and remot...   \n",
       "1642028                What is the '-->' operator in C/C++?   \n",
       "1125968   How do I force \"git pull\" to overwrite local f...   \n",
       "79923                What and where are the stack and heap?   \n",
       "\n",
       "                                                       Body  \\\n",
       "Id                                                            \n",
       "11227809  <p>In this C++ code, sorting the data (<em>bef...   \n",
       "2003505   <p>Failed Attempts to Delete a Remote Branch:<...   \n",
       "1642028   <p>After reading <a href=\"http://groups.google...   \n",
       "1125968   <p>How do I force an overwrite of local files ...   \n",
       "79923     <ul>\\n<li>What are the stack and heap?</li>\\n<...   \n",
       "\n",
       "                                                       Tags  Score  ViewCount  \\\n",
       "Id                                                                              \n",
       "11227809  <java><c++><performance><cpu-architecture><bra...  27243    1880186   \n",
       "2003505   <git><version-control><git-branch><git-push><g...  20386   11483075   \n",
       "1642028   <c++><c><operators><code-formatting><standards...  10156    1010497   \n",
       "1125968   <git><version-control><overwrite><git-pull><gi...   9647    8511461   \n",
       "79923     <data-structures><memory-management><heap-memo...   9420    1931849   \n",
       "\n",
       "          AnswerCount  \n",
       "Id                     \n",
       "11227809           25  \n",
       "2003505            41  \n",
       "1642028            26  \n",
       "1125968            53  \n",
       "79923              31  "
      ]
     },
     "execution_count": 6,
     "metadata": {},
     "output_type": "execute_result"
    }
   ],
   "source": [
    "data.set_index('Id', inplace=True)\n",
    "data.head()"
   ]
  },
  {
   "cell_type": "code",
   "execution_count": 7,
   "id": "2c3e275e-a7df-4757-a0d3-1b21ed1e934a",
   "metadata": {},
   "outputs": [
    {
     "data": {
      "text/plain": [
       "(50000, 6)"
      ]
     },
     "execution_count": 7,
     "metadata": {},
     "output_type": "execute_result"
    }
   ],
   "source": [
    "data.shape"
   ]
  },
  {
   "cell_type": "code",
   "execution_count": 9,
   "id": "04664885-a23e-4536-a157-56daa5d6a5ba",
   "metadata": {},
   "outputs": [
    {
     "data": {
      "text/html": [
       "<div>\n",
       "<style scoped>\n",
       "    .dataframe tbody tr th:only-of-type {\n",
       "        vertical-align: middle;\n",
       "    }\n",
       "\n",
       "    .dataframe tbody tr th {\n",
       "        vertical-align: top;\n",
       "    }\n",
       "\n",
       "    .dataframe thead th {\n",
       "        text-align: right;\n",
       "    }\n",
       "</style>\n",
       "<table border=\"1\" class=\"dataframe\">\n",
       "  <thead>\n",
       "    <tr style=\"text-align: right;\">\n",
       "      <th></th>\n",
       "      <th>count</th>\n",
       "      <th>mean</th>\n",
       "      <th>std</th>\n",
       "      <th>min</th>\n",
       "      <th>25%</th>\n",
       "      <th>50%</th>\n",
       "      <th>75%</th>\n",
       "      <th>max</th>\n",
       "    </tr>\n",
       "  </thead>\n",
       "  <tbody>\n",
       "    <tr>\n",
       "      <th>Score</th>\n",
       "      <td>50000.0</td>\n",
       "      <td>75.218</td>\n",
       "      <td>283.148</td>\n",
       "      <td>5.0</td>\n",
       "      <td>15.0</td>\n",
       "      <td>28.0</td>\n",
       "      <td>61.0</td>\n",
       "      <td>27243.0</td>\n",
       "    </tr>\n",
       "    <tr>\n",
       "      <th>ViewCount</th>\n",
       "      <td>50000.0</td>\n",
       "      <td>100313.430</td>\n",
       "      <td>218662.016</td>\n",
       "      <td>25001.0</td>\n",
       "      <td>33291.0</td>\n",
       "      <td>48795.0</td>\n",
       "      <td>89935.5</td>\n",
       "      <td>11483075.0</td>\n",
       "    </tr>\n",
       "    <tr>\n",
       "      <th>AnswerCount</th>\n",
       "      <td>50000.0</td>\n",
       "      <td>6.047</td>\n",
       "      <td>5.788</td>\n",
       "      <td>1.0</td>\n",
       "      <td>3.0</td>\n",
       "      <td>4.0</td>\n",
       "      <td>7.0</td>\n",
       "      <td>141.0</td>\n",
       "    </tr>\n",
       "  </tbody>\n",
       "</table>\n",
       "</div>"
      ],
      "text/plain": [
       "               count        mean         std      min      25%      50%  \\\n",
       "Score        50000.0      75.218     283.148      5.0     15.0     28.0   \n",
       "ViewCount    50000.0  100313.430  218662.016  25001.0  33291.0  48795.0   \n",
       "AnswerCount  50000.0       6.047       5.788      1.0      3.0      4.0   \n",
       "\n",
       "                 75%         max  \n",
       "Score           61.0     27243.0  \n",
       "ViewCount    89935.5  11483075.0  \n",
       "AnswerCount      7.0       141.0  "
      ]
     },
     "execution_count": 9,
     "metadata": {},
     "output_type": "execute_result"
    }
   ],
   "source": [
    "mt.stats(data)"
   ]
  },
  {
   "cell_type": "code",
   "execution_count": 15,
   "id": "4c2f8976-bfd0-41c0-aa34-8946987cf7a7",
   "metadata": {},
   "outputs": [
    {
     "data": {
      "text/html": [
       "<div>\n",
       "<style scoped>\n",
       "    .dataframe tbody tr th:only-of-type {\n",
       "        vertical-align: middle;\n",
       "    }\n",
       "\n",
       "    .dataframe tbody tr th {\n",
       "        vertical-align: top;\n",
       "    }\n",
       "\n",
       "    .dataframe thead th {\n",
       "        text-align: right;\n",
       "    }\n",
       "</style>\n",
       "<table border=\"1\" class=\"dataframe\">\n",
       "  <thead>\n",
       "    <tr style=\"text-align: right;\">\n",
       "      <th></th>\n",
       "      <th>effectif</th>\n",
       "      <th>taux</th>\n",
       "    </tr>\n",
       "  </thead>\n",
       "  <tbody>\n",
       "  </tbody>\n",
       "</table>\n",
       "</div>"
      ],
      "text/plain": [
       "Empty DataFrame\n",
       "Columns: [effectif, taux]\n",
       "Index: []"
      ]
     },
     "execution_count": 15,
     "metadata": {},
     "output_type": "execute_result"
    }
   ],
   "source": [
    "mt.valeurs_manquantes(data)"
   ]
  },
  {
   "cell_type": "markdown",
   "id": "4715921b-672b-45b2-a1c8-3cbcc09b21e7",
   "metadata": {},
   "source": [
    "Il n'y a pas de valeurs aberrantes ni de valeurs manquantes."
   ]
  },
  {
   "cell_type": "markdown",
   "id": "ba5b6050-68c2-4f25-b62b-e36c90bb6f88",
   "metadata": {},
   "source": [
    "### 1.2 PRÉTRAITEMENT DES FEATURES TEXTUELLES\n",
    "\n",
    "Nous allons utiliser les librairies `spaCy` et `re` pour créer une fonction de prétraitement de texte.\n",
    "\n",
    "La fonction **process_text** ci-dessous permet d'extraire les mots d'un texte en supprimant les caractères non-alphabétiques (sauf les +, - et _) à l'aide d'une expression régulière et les mots trop courants (stopwords). Elle possède trois arguments :\n",
    "- ***text*** : La chaine de caractères que l'on souhaite traiter ;\n",
    "- ***allowed_words*** (optionnel) : Liste de mots autorisés. Les mots qui ne sont pas dans cette liste sont exclus. Par défaut, allowed_words = None ;\n",
    "- ***unique*** (optionnel) : *True* ou *False*. Supprime les doublons. Par défaut, unique=False.\n",
    "\n",
    "Commençons par charger le modèle linguistique large anglais (Les questions sont écrites en anglais) de spaCy :"
   ]
  },
  {
   "cell_type": "code",
   "execution_count": 19,
   "id": "9205f4d1-4b3e-4848-9e46-465984afdd77",
   "metadata": {},
   "outputs": [],
   "source": [
    "# Charger un modèle linguistique anglais\n",
    "nlp = spacy.load(\"en_core_web_lg\")"
   ]
  },
  {
   "cell_type": "code",
   "execution_count": 26,
   "id": "b8cc7664-a778-4872-84a9-93cb048353f0",
   "metadata": {},
   "outputs": [],
   "source": [
    "def process_text(text, allowed_words=None, unique=False):\n",
    "\n",
    "    # Suppression des caractères qui ne sont pas des lettres ou un des symboles (+, -, _) :\n",
    "    text = re.sub(r'[^a-zA-Z\\s\\+\\-_]', ' ', text)\n",
    "\n",
    "    # Application du modèle linguistique au texte :\n",
    "    doc = nlp(text)\n",
    "    \n",
    "    # Lemmatisation des mots, exclusion des stopwords, des mots de longueur inférieure à 3 et éventuellement, des mots non-autorisés :\n",
    "    if allowed_words:\n",
    "        words = [token.lemma_.lower() for token in doc\\\n",
    "                 if not token.is_stop and len(token.text) >= 3 and token.lemma_.lower() in allowed_words]\n",
    "    else:\n",
    "        words = [token.lemma_.lower() for token in doc if not token.is_stop and len(token.text) >= 3]\n",
    "\n",
    "    # Suppression des doublons.\n",
    "    if unique == True:\n",
    "        words = list(set(words))\n",
    "    \n",
    "    return words"
   ]
  },
  {
   "cell_type": "code",
   "execution_count": 28,
   "id": "e7253794-71fb-498e-9332-6e7a061dc57c",
   "metadata": {},
   "outputs": [],
   "source": [
    "from time import time"
   ]
  },
  {
   "cell_type": "code",
   "execution_count": 30,
   "id": "9753c352-272e-49c8-95b1-0b582e558532",
   "metadata": {},
   "outputs": [
    {
     "name": "stdout",
     "output_type": "stream",
     "text": [
      "Durée d'exécution : 4 min\n"
     ]
    }
   ],
   "source": [
    "debut = time()\n",
    "\n",
    "data.Tags = data.Tags.apply(lambda x: process_text(x, unique=True))\n",
    "\n",
    "fin = time()\n",
    "\n",
    "duree = fin - debut\n",
    "print(f\"Durée d'exécution : {round(duree/60)} min\")"
   ]
  },
  {
   "cell_type": "code",
   "execution_count": 31,
   "id": "a5615fbb-f985-4d1b-b90f-c002c5228711",
   "metadata": {},
   "outputs": [
    {
     "name": "stdout",
     "output_type": "stream",
     "text": [
      "Durée d'exécution : 33 min\n"
     ]
    }
   ],
   "source": [
    "debut = time()\n",
    "\n",
    "data.Title = data.Title.apply(process_text)\n",
    "data.Body = data.Body.apply(process_text)\n",
    "\n",
    "fin = time()\n",
    "\n",
    "duree = fin - debut\n",
    "print(f\"Durée d'exécution : {round(duree/60)} min\")"
   ]
  },
  {
   "cell_type": "code",
   "execution_count": 34,
   "id": "59583012-0978-4f60-8a81-353cf715465e",
   "metadata": {},
   "outputs": [
    {
     "data": {
      "text/html": [
       "<div>\n",
       "<style scoped>\n",
       "    .dataframe tbody tr th:only-of-type {\n",
       "        vertical-align: middle;\n",
       "    }\n",
       "\n",
       "    .dataframe tbody tr th {\n",
       "        vertical-align: top;\n",
       "    }\n",
       "\n",
       "    .dataframe thead th {\n",
       "        text-align: right;\n",
       "    }\n",
       "</style>\n",
       "<table border=\"1\" class=\"dataframe\">\n",
       "  <thead>\n",
       "    <tr style=\"text-align: right;\">\n",
       "      <th></th>\n",
       "      <th>Title</th>\n",
       "      <th>Body</th>\n",
       "      <th>Tags</th>\n",
       "      <th>Score</th>\n",
       "      <th>ViewCount</th>\n",
       "      <th>AnswerCount</th>\n",
       "    </tr>\n",
       "    <tr>\n",
       "      <th>Id</th>\n",
       "      <th></th>\n",
       "      <th></th>\n",
       "      <th></th>\n",
       "      <th></th>\n",
       "      <th></th>\n",
       "      <th></th>\n",
       "    </tr>\n",
       "  </thead>\n",
       "  <tbody>\n",
       "    <tr>\n",
       "      <th>11227809</th>\n",
       "      <td>[process, sort, array, fast, process, unsorted...</td>\n",
       "      <td>[c++, code, sort, datum, time, region, make, p...</td>\n",
       "      <td>[cpu, branch, java, architecture, performance,...</td>\n",
       "      <td>27243</td>\n",
       "      <td>1880186</td>\n",
       "      <td>25</td>\n",
       "    </tr>\n",
       "    <tr>\n",
       "      <th>2003505</th>\n",
       "      <td>[delete, git, branch, locally, remotely]</td>\n",
       "      <td>[fail, attempt, delete, remote, branch, pre, c...</td>\n",
       "      <td>[branch, git, version, push, control, remote]</td>\n",
       "      <td>20386</td>\n",
       "      <td>11483075</td>\n",
       "      <td>41</td>\n",
       "    </tr>\n",
       "    <tr>\n",
       "      <th>1642028</th>\n",
       "      <td>[operator, c++]</td>\n",
       "      <td>[read, href, http, group, google, com, group, ...</td>\n",
       "      <td>[operator, compliance, code, standard, c++, fo...</td>\n",
       "      <td>10156</td>\n",
       "      <td>1010497</td>\n",
       "      <td>26</td>\n",
       "    </tr>\n",
       "    <tr>\n",
       "      <th>1125968</th>\n",
       "      <td>[force, git, pull, overwrite, local, file]</td>\n",
       "      <td>[force, overwrite, local, file, code, git, pul...</td>\n",
       "      <td>[pull, fetch, git, version, overwrite, control]</td>\n",
       "      <td>9647</td>\n",
       "      <td>8511461</td>\n",
       "      <td>53</td>\n",
       "    </tr>\n",
       "    <tr>\n",
       "      <th>79923</th>\n",
       "      <td>[stack, heap]</td>\n",
       "      <td>[stack, heap, locate, physically, computer, me...</td>\n",
       "      <td>[memory, dynamic, allocation, structure, manag...</td>\n",
       "      <td>9420</td>\n",
       "      <td>1931849</td>\n",
       "      <td>31</td>\n",
       "    </tr>\n",
       "  </tbody>\n",
       "</table>\n",
       "</div>"
      ],
      "text/plain": [
       "                                                      Title  \\\n",
       "Id                                                            \n",
       "11227809  [process, sort, array, fast, process, unsorted...   \n",
       "2003505            [delete, git, branch, locally, remotely]   \n",
       "1642028                                     [operator, c++]   \n",
       "1125968          [force, git, pull, overwrite, local, file]   \n",
       "79923                                         [stack, heap]   \n",
       "\n",
       "                                                       Body  \\\n",
       "Id                                                            \n",
       "11227809  [c++, code, sort, datum, time, region, make, p...   \n",
       "2003505   [fail, attempt, delete, remote, branch, pre, c...   \n",
       "1642028   [read, href, http, group, google, com, group, ...   \n",
       "1125968   [force, overwrite, local, file, code, git, pul...   \n",
       "79923     [stack, heap, locate, physically, computer, me...   \n",
       "\n",
       "                                                       Tags  Score  ViewCount  \\\n",
       "Id                                                                              \n",
       "11227809  [cpu, branch, java, architecture, performance,...  27243    1880186   \n",
       "2003505       [branch, git, version, push, control, remote]  20386   11483075   \n",
       "1642028   [operator, compliance, code, standard, c++, fo...  10156    1010497   \n",
       "1125968     [pull, fetch, git, version, overwrite, control]   9647    8511461   \n",
       "79923     [memory, dynamic, allocation, structure, manag...   9420    1931849   \n",
       "\n",
       "          AnswerCount  \n",
       "Id                     \n",
       "11227809           25  \n",
       "2003505            41  \n",
       "1642028            26  \n",
       "1125968            53  \n",
       "79923              31  "
      ]
     },
     "execution_count": 34,
     "metadata": {},
     "output_type": "execute_result"
    }
   ],
   "source": [
    "data.head()"
   ]
  },
  {
   "cell_type": "markdown",
   "id": "98748c84-284a-4d07-bcfc-c20f14e5a3f7",
   "metadata": {},
   "source": [
    "Convertissons toutes les listes en chaines de caractères afin de les rendre mieux exploitables par les algorithmes ultérieurs :"
   ]
  },
  {
   "cell_type": "code",
   "execution_count": 37,
   "id": "b98d5fb0-8539-4f6a-b74c-13a7e754c808",
   "metadata": {},
   "outputs": [],
   "source": [
    "# Convertir les listes de chaînes de caractères en textes :\n",
    "data.Title = data.Title.apply(lambda x: ' '.join(x))\n",
    "data.Body = data.Body.apply(lambda x: ' '.join(x))\n",
    "data.Tags = data.Tags.apply(lambda x: ' '.join(x))"
   ]
  },
  {
   "cell_type": "code",
   "execution_count": 39,
   "id": "f56ac6b6-313f-4ceb-a2d5-b48e2fd69481",
   "metadata": {},
   "outputs": [
    {
     "data": {
      "text/html": [
       "<div>\n",
       "<style scoped>\n",
       "    .dataframe tbody tr th:only-of-type {\n",
       "        vertical-align: middle;\n",
       "    }\n",
       "\n",
       "    .dataframe tbody tr th {\n",
       "        vertical-align: top;\n",
       "    }\n",
       "\n",
       "    .dataframe thead th {\n",
       "        text-align: right;\n",
       "    }\n",
       "</style>\n",
       "<table border=\"1\" class=\"dataframe\">\n",
       "  <thead>\n",
       "    <tr style=\"text-align: right;\">\n",
       "      <th></th>\n",
       "      <th>Title</th>\n",
       "      <th>Body</th>\n",
       "      <th>Tags</th>\n",
       "      <th>Score</th>\n",
       "      <th>ViewCount</th>\n",
       "      <th>AnswerCount</th>\n",
       "    </tr>\n",
       "    <tr>\n",
       "      <th>Id</th>\n",
       "      <th></th>\n",
       "      <th></th>\n",
       "      <th></th>\n",
       "      <th></th>\n",
       "      <th></th>\n",
       "      <th></th>\n",
       "    </tr>\n",
       "  </thead>\n",
       "  <tbody>\n",
       "    <tr>\n",
       "      <th>11227809</th>\n",
       "      <td>process sort array fast process unsorted array</td>\n",
       "      <td>c++ code sort datum time region make primary l...</td>\n",
       "      <td>cpu branch java architecture performance c++ p...</td>\n",
       "      <td>27243</td>\n",
       "      <td>1880186</td>\n",
       "      <td>25</td>\n",
       "    </tr>\n",
       "    <tr>\n",
       "      <th>2003505</th>\n",
       "      <td>delete git branch locally remotely</td>\n",
       "      <td>fail attempt delete remote branch pre class la...</td>\n",
       "      <td>branch git version push control remote</td>\n",
       "      <td>20386</td>\n",
       "      <td>11483075</td>\n",
       "      <td>41</td>\n",
       "    </tr>\n",
       "    <tr>\n",
       "      <th>1642028</th>\n",
       "      <td>operator c++</td>\n",
       "      <td>read href http group google com group comp lan...</td>\n",
       "      <td>operator compliance code standard c++ format</td>\n",
       "      <td>10156</td>\n",
       "      <td>1010497</td>\n",
       "      <td>26</td>\n",
       "    </tr>\n",
       "    <tr>\n",
       "      <th>1125968</th>\n",
       "      <td>force git pull overwrite local file</td>\n",
       "      <td>force overwrite local file code git pull code ...</td>\n",
       "      <td>pull fetch git version overwrite control</td>\n",
       "      <td>9647</td>\n",
       "      <td>8511461</td>\n",
       "      <td>53</td>\n",
       "    </tr>\n",
       "    <tr>\n",
       "      <th>79923</th>\n",
       "      <td>stack heap</td>\n",
       "      <td>stack heap locate physically computer memory e...</td>\n",
       "      <td>memory dynamic allocation structure management...</td>\n",
       "      <td>9420</td>\n",
       "      <td>1931849</td>\n",
       "      <td>31</td>\n",
       "    </tr>\n",
       "  </tbody>\n",
       "</table>\n",
       "</div>"
      ],
      "text/plain": [
       "                                                   Title  \\\n",
       "Id                                                         \n",
       "11227809  process sort array fast process unsorted array   \n",
       "2003505               delete git branch locally remotely   \n",
       "1642028                                     operator c++   \n",
       "1125968              force git pull overwrite local file   \n",
       "79923                                         stack heap   \n",
       "\n",
       "                                                       Body  \\\n",
       "Id                                                            \n",
       "11227809  c++ code sort datum time region make primary l...   \n",
       "2003505   fail attempt delete remote branch pre class la...   \n",
       "1642028   read href http group google com group comp lan...   \n",
       "1125968   force overwrite local file code git pull code ...   \n",
       "79923     stack heap locate physically computer memory e...   \n",
       "\n",
       "                                                       Tags  Score  ViewCount  \\\n",
       "Id                                                                              \n",
       "11227809  cpu branch java architecture performance c++ p...  27243    1880186   \n",
       "2003505              branch git version push control remote  20386   11483075   \n",
       "1642028        operator compliance code standard c++ format  10156    1010497   \n",
       "1125968            pull fetch git version overwrite control   9647    8511461   \n",
       "79923     memory dynamic allocation structure management...   9420    1931849   \n",
       "\n",
       "          AnswerCount  \n",
       "Id                     \n",
       "11227809           25  \n",
       "2003505            41  \n",
       "1642028            26  \n",
       "1125968            53  \n",
       "79923              31  "
      ]
     },
     "execution_count": 39,
     "metadata": {},
     "output_type": "execute_result"
    }
   ],
   "source": [
    "data.head()"
   ]
  },
  {
   "cell_type": "markdown",
   "id": "157b9ccf-0c60-47af-8d71-cb7ddefb7d0d",
   "metadata": {},
   "source": [
    "Enfin, nous allons créer de façon aléatoire un dataset d'entraînement et un dataset de validation avec 50% des données chacun :"
   ]
  },
  {
   "cell_type": "code",
   "execution_count": 42,
   "id": "44213b1f-5212-420b-a1ae-6bb4fdc80a3f",
   "metadata": {},
   "outputs": [],
   "source": [
    "from sklearn.model_selection import train_test_split"
   ]
  },
  {
   "cell_type": "code",
   "execution_count": 44,
   "id": "f2d33fb1-31fb-40de-b45d-a16b4817cc59",
   "metadata": {},
   "outputs": [],
   "source": [
    "data_train, data_val = train_test_split(data, test_size=0.5, random_state=88)"
   ]
  },
  {
   "cell_type": "markdown",
   "id": "e91f1287-49f2-409b-abd8-6e5f7b470256",
   "metadata": {},
   "source": [
    "On exporte ces deux datasets dans des fichiers csv :"
   ]
  },
  {
   "cell_type": "code",
   "execution_count": 47,
   "id": "5f138460-e1db-491a-a8f8-fdcc670d5225",
   "metadata": {},
   "outputs": [],
   "source": [
    "data_train.to_csv('questions_pretraitees.csv')"
   ]
  },
  {
   "cell_type": "code",
   "execution_count": 49,
   "id": "4150dc8e-6a60-46a2-a8e6-d40646d35539",
   "metadata": {},
   "outputs": [],
   "source": [
    "data_val.to_csv('questions_pretraitees_validation.csv')"
   ]
  }
 ],
 "metadata": {
  "kernelspec": {
   "display_name": "Python 3 (ipykernel)",
   "language": "python",
   "name": "python3"
  },
  "language_info": {
   "codemirror_mode": {
    "name": "ipython",
    "version": 3
   },
   "file_extension": ".py",
   "mimetype": "text/x-python",
   "name": "python",
   "nbconvert_exporter": "python",
   "pygments_lexer": "ipython3",
   "version": "3.11.5"
  }
 },
 "nbformat": 4,
 "nbformat_minor": 5
}
