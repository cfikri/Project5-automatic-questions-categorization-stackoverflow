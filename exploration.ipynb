{
 "cells": [
  {
   "cell_type": "code",
   "execution_count": 1,
   "id": "119f9de4-efee-4709-9a42-0cab395c5309",
   "metadata": {},
   "outputs": [],
   "source": [
    "import numpy as np\n",
    "import pandas as pd\n",
    "import matplotlib.pyplot as plt\n",
    "import seaborn as sns\n",
    "import mytools as mt"
   ]
  },
  {
   "cell_type": "markdown",
   "id": "dea47984-8850-4332-b330-2962ea028f69",
   "metadata": {},
   "source": [
    "SELECT TOP 50000 Title, \n",
    "                 Body, \n",
    "                 Tags, \n",
    "                 Id, \n",
    "                 Score, \n",
    "                 ViewCount, \n",
    "                 FavoriteCount, \n",
    "                 AnswerCount\n",
    "\n",
    "FROM Posts\n",
    "\n",
    "WHERE PostTypeId = 1 \n",
    "      AND ViewCount > 10 \n",
    "      AND AnswerCount > 0\n",
    "      AND LEN(Tags) - LEN(REPLACE(Tags, '<','')) >= 5\n",
    "\n",
    "ORDER BY Score DESC"
   ]
  },
  {
   "cell_type": "code",
   "execution_count": 8,
   "id": "97439ab0-e261-4aea-862f-b53f64c18d15",
   "metadata": {},
   "outputs": [
    {
     "data": {
      "text/html": [
       "<div>\n",
       "<style scoped>\n",
       "    .dataframe tbody tr th:only-of-type {\n",
       "        vertical-align: middle;\n",
       "    }\n",
       "\n",
       "    .dataframe tbody tr th {\n",
       "        vertical-align: top;\n",
       "    }\n",
       "\n",
       "    .dataframe thead th {\n",
       "        text-align: right;\n",
       "    }\n",
       "</style>\n",
       "<table border=\"1\" class=\"dataframe\">\n",
       "  <thead>\n",
       "    <tr style=\"text-align: right;\">\n",
       "      <th></th>\n",
       "      <th>Title</th>\n",
       "      <th>Body</th>\n",
       "      <th>Tags</th>\n",
       "      <th>Id</th>\n",
       "      <th>Score</th>\n",
       "      <th>ViewCount</th>\n",
       "      <th>FavoriteCount</th>\n",
       "      <th>AnswerCount</th>\n",
       "    </tr>\n",
       "  </thead>\n",
       "  <tbody>\n",
       "    <tr>\n",
       "      <th>0</th>\n",
       "      <td>Why is processing a sorted array faster than p...</td>\n",
       "      <td>&lt;p&gt;In this C++ code, sorting the data (&lt;em&gt;bef...</td>\n",
       "      <td>&lt;java&gt;&lt;c++&gt;&lt;performance&gt;&lt;cpu-architecture&gt;&lt;bra...</td>\n",
       "      <td>11227809</td>\n",
       "      <td>27235</td>\n",
       "      <td>1876578</td>\n",
       "      <td>0.0</td>\n",
       "      <td>25</td>\n",
       "    </tr>\n",
       "    <tr>\n",
       "      <th>1</th>\n",
       "      <td>How do I delete a Git branch locally and remot...</td>\n",
       "      <td>&lt;p&gt;Failed Attempts to Delete a Remote Branch:&lt;...</td>\n",
       "      <td>&lt;git&gt;&lt;version-control&gt;&lt;git-branch&gt;&lt;git-push&gt;&lt;g...</td>\n",
       "      <td>2003505</td>\n",
       "      <td>20387</td>\n",
       "      <td>11445451</td>\n",
       "      <td>0.0</td>\n",
       "      <td>41</td>\n",
       "    </tr>\n",
       "    <tr>\n",
       "      <th>2</th>\n",
       "      <td>What is the '--&gt;' operator in C/C++?</td>\n",
       "      <td>&lt;p&gt;After reading &lt;a href=\"http://groups.google...</td>\n",
       "      <td>&lt;c++&gt;&lt;c&gt;&lt;operators&gt;&lt;code-formatting&gt;&lt;standards...</td>\n",
       "      <td>1642028</td>\n",
       "      <td>10151</td>\n",
       "      <td>1008628</td>\n",
       "      <td>0.0</td>\n",
       "      <td>26</td>\n",
       "    </tr>\n",
       "    <tr>\n",
       "      <th>3</th>\n",
       "      <td>How do I force \"git pull\" to overwrite local f...</td>\n",
       "      <td>&lt;p&gt;How do I force an overwrite of local files ...</td>\n",
       "      <td>&lt;git&gt;&lt;version-control&gt;&lt;overwrite&gt;&lt;git-pull&gt;&lt;gi...</td>\n",
       "      <td>1125968</td>\n",
       "      <td>9630</td>\n",
       "      <td>8458360</td>\n",
       "      <td>0.0</td>\n",
       "      <td>53</td>\n",
       "    </tr>\n",
       "    <tr>\n",
       "      <th>4</th>\n",
       "      <td>What and where are the stack and heap?</td>\n",
       "      <td>&lt;ul&gt;\\n&lt;li&gt;What are the stack and heap?&lt;/li&gt;\\n&lt;...</td>\n",
       "      <td>&lt;data-structures&gt;&lt;memory-management&gt;&lt;heap-memo...</td>\n",
       "      <td>79923</td>\n",
       "      <td>9412</td>\n",
       "      <td>1927405</td>\n",
       "      <td>0.0</td>\n",
       "      <td>31</td>\n",
       "    </tr>\n",
       "  </tbody>\n",
       "</table>\n",
       "</div>"
      ],
      "text/plain": [
       "                                               Title  \\\n",
       "0  Why is processing a sorted array faster than p...   \n",
       "1  How do I delete a Git branch locally and remot...   \n",
       "2               What is the '-->' operator in C/C++?   \n",
       "3  How do I force \"git pull\" to overwrite local f...   \n",
       "4             What and where are the stack and heap?   \n",
       "\n",
       "                                                Body  \\\n",
       "0  <p>In this C++ code, sorting the data (<em>bef...   \n",
       "1  <p>Failed Attempts to Delete a Remote Branch:<...   \n",
       "2  <p>After reading <a href=\"http://groups.google...   \n",
       "3  <p>How do I force an overwrite of local files ...   \n",
       "4  <ul>\\n<li>What are the stack and heap?</li>\\n<...   \n",
       "\n",
       "                                                Tags        Id  Score  \\\n",
       "0  <java><c++><performance><cpu-architecture><bra...  11227809  27235   \n",
       "1  <git><version-control><git-branch><git-push><g...   2003505  20387   \n",
       "2  <c++><c><operators><code-formatting><standards...   1642028  10151   \n",
       "3  <git><version-control><overwrite><git-pull><gi...   1125968   9630   \n",
       "4  <data-structures><memory-management><heap-memo...     79923   9412   \n",
       "\n",
       "   ViewCount  FavoriteCount  AnswerCount  \n",
       "0    1876578            0.0           25  \n",
       "1   11445451            0.0           41  \n",
       "2    1008628            0.0           26  \n",
       "3    8458360            0.0           53  \n",
       "4    1927405            0.0           31  "
      ]
     },
     "execution_count": 8,
     "metadata": {},
     "output_type": "execute_result"
    }
   ],
   "source": [
    "data = pd.read_csv('data_stackoverflow.csv')\n",
    "data.head()"
   ]
  },
  {
   "cell_type": "code",
   "execution_count": 9,
   "id": "3ba4cf51-0209-4fd4-8e0a-283341de9d2f",
   "metadata": {},
   "outputs": [
    {
     "data": {
      "text/plain": [
       "(50000, 8)"
      ]
     },
     "execution_count": 9,
     "metadata": {},
     "output_type": "execute_result"
    }
   ],
   "source": [
    "data.shape"
   ]
  }
 ],
 "metadata": {
  "kernelspec": {
   "display_name": "Python 3 (ipykernel)",
   "language": "python",
   "name": "python3"
  },
  "language_info": {
   "codemirror_mode": {
    "name": "ipython",
    "version": 3
   },
   "file_extension": ".py",
   "mimetype": "text/x-python",
   "name": "python",
   "nbconvert_exporter": "python",
   "pygments_lexer": "ipython3",
   "version": "3.11.5"
  }
 },
 "nbformat": 4,
 "nbformat_minor": 5
}
