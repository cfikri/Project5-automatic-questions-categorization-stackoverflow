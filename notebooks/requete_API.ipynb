{
 "cells": [
  {
   "cell_type": "markdown",
   "id": "f7a85106-4f01-4bf3-a43e-cb84421d2fed",
   "metadata": {},
   "source": [
    "# 4. Requête API."
   ]
  },
  {
   "cell_type": "code",
   "execution_count": 1,
   "id": "6031d4b1-1c86-4f39-a8d7-7785bbc80cc0",
   "metadata": {},
   "outputs": [],
   "source": [
    "import numpy as np\n",
    "import pandas as pd\n",
    "from stackapi import StackAPI"
   ]
  },
  {
   "cell_type": "markdown",
   "id": "65364447",
   "metadata": {},
   "source": [
    "Nous allons extraires 50 questions publiées sur `stackoverflow.com` entre le 1er mars et le 31 décembre 2020 (période du covid19) contenant le Tag *python*, classées par scores décroissants.\n",
    "\n",
    "Les deux dates seront converties au format Unix timestamp."
   ]
  },
  {
   "cell_type": "code",
   "execution_count": 2,
   "id": "695e8f72-bf13-4e6d-8eac-107ffe814472",
   "metadata": {},
   "outputs": [],
   "source": [
    "SITE = StackAPI('stackoverflow')\n",
    "SITE.page_size = 50  # Nombre de résultats par page\n",
    "SITE.max_pages = 1 # Nombre de pages"
   ]
  },
  {
   "cell_type": "code",
   "execution_count": 3,
   "id": "f1ee0b5c-513e-4305-ab6b-2ff34b3cbd28",
   "metadata": {},
   "outputs": [],
   "source": [
    "questions = SITE.fetch('questions', tagged='python', sort='votes',\n",
    "                       fromdate=1583020800, todate=1609372800, filter='withbody')"
   ]
  },
  {
   "cell_type": "markdown",
   "id": "c615c291",
   "metadata": {},
   "source": [
    "Nous allons maintenant stocker ces questions dans un dataframe. On filtre les questions qui ont un score supérieur à 50 et on sélectionne les features suivantes : *Date, Titre, Question, Tags, Score* ."
   ]
  },
  {
   "cell_type": "code",
   "execution_count": 4,
   "id": "d5745fb9-06d6-41be-b321-c7bba2b66018",
   "metadata": {},
   "outputs": [],
   "source": [
    "# Extraction des données pertinentes :\n",
    "data = []\n",
    "for question in questions['items']:\n",
    "    if question['score'] > 50:\n",
    "        question_data = {\n",
    "            'Date': pd.to_datetime(question['creation_date'], unit='s'),\n",
    "            'Titre': question['title'],\n",
    "            'Question' : question['body'],\n",
    "            'Tags': question['tags'],\n",
    "            'Score': question['score']\n",
    "        }\n",
    "        data.append(question_data)\n",
    "\n",
    "# Stockage dans un dataframe :\n",
    "data = pd.DataFrame(data)"
   ]
  },
  {
   "cell_type": "code",
   "execution_count": 5,
   "id": "207bc063-5269-4799-871c-e41fe1807a04",
   "metadata": {},
   "outputs": [
    {
     "data": {
      "text/html": [
       "<div>\n",
       "<style scoped>\n",
       "    .dataframe tbody tr th:only-of-type {\n",
       "        vertical-align: middle;\n",
       "    }\n",
       "\n",
       "    .dataframe tbody tr th {\n",
       "        vertical-align: top;\n",
       "    }\n",
       "\n",
       "    .dataframe thead th {\n",
       "        text-align: right;\n",
       "    }\n",
       "</style>\n",
       "<table border=\"1\" class=\"dataframe\">\n",
       "  <thead>\n",
       "    <tr style=\"text-align: right;\">\n",
       "      <th></th>\n",
       "      <th>Date</th>\n",
       "      <th>Titre</th>\n",
       "      <th>Question</th>\n",
       "      <th>Tags</th>\n",
       "      <th>Score</th>\n",
       "    </tr>\n",
       "  </thead>\n",
       "  <tbody>\n",
       "    <tr>\n",
       "      <th>0</th>\n",
       "      <td>2020-07-19 17:51:19</td>\n",
       "      <td>What is pyproject.toml file for?</td>\n",
       "      <td>&lt;h3&gt;Background&lt;/h3&gt;\\n&lt;p&gt;I was about to try Pyt...</td>\n",
       "      <td>[python, pip, packaging, pyproject.toml]</td>\n",
       "      <td>373</td>\n",
       "    </tr>\n",
       "    <tr>\n",
       "      <th>1</th>\n",
       "      <td>2020-12-11 15:53:36</td>\n",
       "      <td>xlrd.biffh.XLRDError: Excel xlsx file; not sup...</td>\n",
       "      <td>&lt;p&gt;I am trying to read a macro-enabled Excel w...</td>\n",
       "      <td>[python, pandas, xlrd, pcf]</td>\n",
       "      <td>293</td>\n",
       "    </tr>\n",
       "    <tr>\n",
       "      <th>2</th>\n",
       "      <td>2020-07-02 02:56:46</td>\n",
       "      <td>sqlalchemy.exc.NoSuchModuleError: Can&amp;#39;t lo...</td>\n",
       "      <td>&lt;p&gt;I'm trying to connect to a Postgres databas...</td>\n",
       "      <td>[python, postgresql, sqlalchemy, flask-sqlalch...</td>\n",
       "      <td>240</td>\n",
       "    </tr>\n",
       "    <tr>\n",
       "      <th>3</th>\n",
       "      <td>2020-11-22 08:53:15</td>\n",
       "      <td>docker.errors.DockerException: Error while fet...</td>\n",
       "      <td>&lt;p&gt;I want to install this module but there is ...</td>\n",
       "      <td>[python, linux, docker, docker-compose]</td>\n",
       "      <td>238</td>\n",
       "    </tr>\n",
       "    <tr>\n",
       "      <th>4</th>\n",
       "      <td>2020-12-17 21:55:37</td>\n",
       "      <td>Python was not found; run without arguments to...</td>\n",
       "      <td>&lt;p&gt;I was trying to download a GUI, but the ter...</td>\n",
       "      <td>[python, python-3.x, windows-10]</td>\n",
       "      <td>223</td>\n",
       "    </tr>\n",
       "  </tbody>\n",
       "</table>\n",
       "</div>"
      ],
      "text/plain": [
       "                 Date                                              Titre  \\\n",
       "0 2020-07-19 17:51:19                   What is pyproject.toml file for?   \n",
       "1 2020-12-11 15:53:36  xlrd.biffh.XLRDError: Excel xlsx file; not sup...   \n",
       "2 2020-07-02 02:56:46  sqlalchemy.exc.NoSuchModuleError: Can&#39;t lo...   \n",
       "3 2020-11-22 08:53:15  docker.errors.DockerException: Error while fet...   \n",
       "4 2020-12-17 21:55:37  Python was not found; run without arguments to...   \n",
       "\n",
       "                                            Question  \\\n",
       "0  <h3>Background</h3>\\n<p>I was about to try Pyt...   \n",
       "1  <p>I am trying to read a macro-enabled Excel w...   \n",
       "2  <p>I'm trying to connect to a Postgres databas...   \n",
       "3  <p>I want to install this module but there is ...   \n",
       "4  <p>I was trying to download a GUI, but the ter...   \n",
       "\n",
       "                                                Tags  Score  \n",
       "0           [python, pip, packaging, pyproject.toml]    373  \n",
       "1                        [python, pandas, xlrd, pcf]    293  \n",
       "2  [python, postgresql, sqlalchemy, flask-sqlalch...    240  \n",
       "3            [python, linux, docker, docker-compose]    238  \n",
       "4                   [python, python-3.x, windows-10]    223  "
      ]
     },
     "execution_count": 5,
     "metadata": {},
     "output_type": "execute_result"
    }
   ],
   "source": [
    "data.head()"
   ]
  },
  {
   "cell_type": "code",
   "execution_count": 6,
   "id": "ac2efc2a-43c5-4952-ab79-0d8df7440119",
   "metadata": {},
   "outputs": [
    {
     "data": {
      "text/plain": [
       "(50, 5)"
      ]
     },
     "execution_count": 6,
     "metadata": {},
     "output_type": "execute_result"
    }
   ],
   "source": [
    "data.shape"
   ]
  },
  {
   "cell_type": "markdown",
   "id": "1b5f55b4",
   "metadata": {},
   "source": [
    "On trie les questions par date, de la plus récente à la plus ancienne :"
   ]
  },
  {
   "cell_type": "code",
   "execution_count": 7,
   "id": "e18620e7-31b2-4076-8376-cdbe3de22573",
   "metadata": {},
   "outputs": [
    {
     "data": {
      "text/html": [
       "<div>\n",
       "<style scoped>\n",
       "    .dataframe tbody tr th:only-of-type {\n",
       "        vertical-align: middle;\n",
       "    }\n",
       "\n",
       "    .dataframe tbody tr th {\n",
       "        vertical-align: top;\n",
       "    }\n",
       "\n",
       "    .dataframe thead th {\n",
       "        text-align: right;\n",
       "    }\n",
       "</style>\n",
       "<table border=\"1\" class=\"dataframe\">\n",
       "  <thead>\n",
       "    <tr style=\"text-align: right;\">\n",
       "      <th></th>\n",
       "      <th>Date</th>\n",
       "      <th>Titre</th>\n",
       "      <th>Question</th>\n",
       "      <th>Tags</th>\n",
       "      <th>Score</th>\n",
       "    </tr>\n",
       "  </thead>\n",
       "  <tbody>\n",
       "    <tr>\n",
       "      <th>4</th>\n",
       "      <td>2020-12-17 21:55:37</td>\n",
       "      <td>Python was not found; run without arguments to...</td>\n",
       "      <td>&lt;p&gt;I was trying to download a GUI, but the ter...</td>\n",
       "      <td>[python, python-3.x, windows-10]</td>\n",
       "      <td>223</td>\n",
       "    </tr>\n",
       "    <tr>\n",
       "      <th>14</th>\n",
       "      <td>2020-12-15 00:05:16</td>\n",
       "      <td>What does this tensorflow message mean? Any si...</td>\n",
       "      <td>&lt;p&gt;I just installed tensorflow v2.3 on anacond...</td>\n",
       "      <td>[python, tensorflow, anaconda]</td>\n",
       "      <td>149</td>\n",
       "    </tr>\n",
       "    <tr>\n",
       "      <th>1</th>\n",
       "      <td>2020-12-11 15:53:36</td>\n",
       "      <td>xlrd.biffh.XLRDError: Excel xlsx file; not sup...</td>\n",
       "      <td>&lt;p&gt;I am trying to read a macro-enabled Excel w...</td>\n",
       "      <td>[python, pandas, xlrd, pcf]</td>\n",
       "      <td>293</td>\n",
       "    </tr>\n",
       "    <tr>\n",
       "      <th>10</th>\n",
       "      <td>2020-12-11 11:08:36</td>\n",
       "      <td>Pandas cannot open an Excel (.xlsx) file</td>\n",
       "      <td>&lt;p&gt;Please see my code below:&lt;/p&gt;\\n&lt;pre&gt;&lt;code&gt;i...</td>\n",
       "      <td>[python, excel, pandas]</td>\n",
       "      <td>171</td>\n",
       "    </tr>\n",
       "    <tr>\n",
       "      <th>40</th>\n",
       "      <td>2020-12-09 02:50:21</td>\n",
       "      <td>Pydantic enum field does not get converted to ...</td>\n",
       "      <td>&lt;p&gt;I am trying to restrict one field in a clas...</td>\n",
       "      <td>[python, serialization, fastapi, pydantic]</td>\n",
       "      <td>88</td>\n",
       "    </tr>\n",
       "  </tbody>\n",
       "</table>\n",
       "</div>"
      ],
      "text/plain": [
       "                  Date                                              Titre  \\\n",
       "4  2020-12-17 21:55:37  Python was not found; run without arguments to...   \n",
       "14 2020-12-15 00:05:16  What does this tensorflow message mean? Any si...   \n",
       "1  2020-12-11 15:53:36  xlrd.biffh.XLRDError: Excel xlsx file; not sup...   \n",
       "10 2020-12-11 11:08:36           Pandas cannot open an Excel (.xlsx) file   \n",
       "40 2020-12-09 02:50:21  Pydantic enum field does not get converted to ...   \n",
       "\n",
       "                                             Question  \\\n",
       "4   <p>I was trying to download a GUI, but the ter...   \n",
       "14  <p>I just installed tensorflow v2.3 on anacond...   \n",
       "1   <p>I am trying to read a macro-enabled Excel w...   \n",
       "10  <p>Please see my code below:</p>\\n<pre><code>i...   \n",
       "40  <p>I am trying to restrict one field in a clas...   \n",
       "\n",
       "                                          Tags  Score  \n",
       "4             [python, python-3.x, windows-10]    223  \n",
       "14              [python, tensorflow, anaconda]    149  \n",
       "1                  [python, pandas, xlrd, pcf]    293  \n",
       "10                     [python, excel, pandas]    171  \n",
       "40  [python, serialization, fastapi, pydantic]     88  "
      ]
     },
     "execution_count": 7,
     "metadata": {},
     "output_type": "execute_result"
    }
   ],
   "source": [
    "result = data.sort_values(by='Date', ascending=False)\n",
    "result.head()"
   ]
  }
 ],
 "metadata": {
  "kernelspec": {
   "display_name": "Python 3 (ipykernel)",
   "language": "python",
   "name": "python3"
  },
  "language_info": {
   "codemirror_mode": {
    "name": "ipython",
    "version": 3
   },
   "file_extension": ".py",
   "mimetype": "text/x-python",
   "name": "python",
   "nbconvert_exporter": "python",
   "pygments_lexer": "ipython3",
   "version": "3.11.5"
  }
 },
 "nbformat": 4,
 "nbformat_minor": 5
}
